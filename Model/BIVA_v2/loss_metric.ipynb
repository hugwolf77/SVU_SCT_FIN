{
 "cells": [
  {
   "cell_type": "code",
   "execution_count": 6,
   "metadata": {},
   "outputs": [],
   "source": [
    "import os\n",
    "\n",
    "import numpy as np\n",
    "import pandas as pd\n",
    "\n",
    "from scipy.stats import pearsonr\n",
    "from sklearn.metrics import *\n",
    "from sklearn.metrics import mean_absolute_error\n",
    "\n",
    "from model.utils.tools import StandardScaler, MinMaxScaler, load_data_timeindex, load_data_DFM, set_lag_missing, repeat_label_row\n"
   ]
  },
  {
   "cell_type": "code",
   "execution_count": 4,
   "metadata": {},
   "outputs": [
    {
     "name": "stdout",
     "output_type": "stream",
     "text": [
      "Python set up modules loaded\n",
      "Python version:\n",
      " 3.8.5 (tags/v3.8.5:580fbb0, Jul 20 2020, 15:57:54) [MSC v.1924 64 bit (AMD64)] \n",
      "Platform:  win32\n",
      "Base directory path: d:\\2023\\SVU_SCT_FIN\\SVU_SCT_FIN_SP\\SVU_SCT_FIN\\Model\\BIVA\n",
      "Data/time: 2023-08-04 12:13:40.141819\n"
     ]
    }
   ],
   "source": [
    "from datetime import datetime as dt\n",
    "\n",
    "from IPython.core.interactiveshell import InteractiveShell\n",
    "InteractiveShell.ast_node_interactivity = \"all\"\n",
    "\n",
    "print(\"Python set up modules loaded\")\n",
    "print(\"Python version:\\n\", os.sys.version, \"\\nPlatform: \", os.sys.platform)\n",
    "print(\"Base directory path:\", os.getcwd())\n",
    "print(\"Data/time:\", dt.now())\n",
    "\n",
    "# import statsmodels as sma\n",
    "# import statsmodels.api as sm\n",
    "# from statsmodels.tsa.stattools import adfuller\n",
    "# from statsmodels.tsa.x13 import x13_arima_select_order, _find_x12\n",
    "\n",
    "# print(\"STATSMODELS info (statsmodels._version.version)\", sma._version.version)\n",
    "# # v0.13.0 만 json version 정보 있음. v0.14.0 부터 없음.\n",
    "\n",
    "import matplotlib.pyplot as plt\n",
    "# plt.rc('font', family='NanumBarunGothic')\n",
    "%matplotlib inline\n",
    "import seaborn as sns"
   ]
  },
  {
   "cell_type": "code",
   "execution_count": 7,
   "metadata": {},
   "outputs": [
    {
     "name": "stdout",
     "output_type": "stream",
     "text": [
      "Q_max : -3.3\n",
      "Q_min : 3.0\n"
     ]
    }
   ],
   "source": [
    "target = 'A1' # GDP grow ratio\n",
    "seq_len = 6\n",
    "flag = \"train\"\n",
    "\n",
    "root = \"D:/2023/SVU_SCT_FIN/SVU_SCT_FIN_SP/SVU_SCT_FIN/Model/BIVA/Base_data/\"\n",
    "file = \"dataset_03_S.xlsx\"\n",
    "path = os.path.join(root,file)\n",
    "df_Q, df_Q_trans, df_M, df_M_trans, var_info = load_data_timeindex(path)\n",
    "\n",
    "period = {'M': ['2000-01','2023-01'], 'Q':['2000-03','2023-03']}\n",
    "df_M = df_M.loc[period['M'][0]:period['M'][1]]\n",
    "df_Q = df_Q.loc[period['Q'][0]:period['Q'][1]]\n",
    "\n",
    "cols_M = list(df_M.columns)\n",
    "cols_Q = list(df_Q.columns)\n",
    "cols_Q.remove(target)\n",
    "df_Q = df_Q[cols_Q + [target]]\n",
    "\n",
    "\n",
    "type_map = {'train': 0, 'val': 1, 'test': 2}\n",
    "set_type = type_map[flag]\n",
    "\n",
    "num_train = int(len(df_M) * 0.8) \n",
    "num_test = int(len(df_M) * 0.1)\n",
    "num_vali = len(df_M) - num_train - num_test\n",
    "border1s = [0, num_train - seq_len, len(df_M) - num_test - seq_len]\n",
    "border2s = [num_train, num_train + num_vali, len(df_M)]\n",
    "border1 = border1s[set_type]\n",
    "border2 = border2s[set_type]\n",
    "\n",
    "border1s_Q = [0, (num_train - seq_len)//3, (len(df_M) - num_test - seq_len)//3]\n",
    "border2s_Q = [num_train//3, (num_train + num_vali)//3, len(df_M)//3]\n",
    "border1_Q = border1s_Q[set_type]\n",
    "border2_Q = border2s_Q[set_type]\n",
    "\n",
    "df_data = df_M[cols_M]\n",
    "df_data_t = df_Q[[target]]\n",
    "\n",
    "scaler_m = MinMaxScaler()\n",
    "scaler_q = MinMaxScaler()\n",
    "\n",
    "train_data = df_data[border1s[0]:border2s[0]]\n",
    "df_data_cols = df_data.columns\n",
    "df_data_index = df_data.index\n",
    "\n",
    "train_data_t = df_data_t[border1s_Q[0]:border2s_Q[0]]\n",
    "df_data_t_cols = df_data_t.columns\n",
    "df_data_t_index = df_data_t.index\n",
    "\n",
    "scaler_m.fit(train_data.values)\n",
    "data = scaler_m.transform(df_data.values)\n",
    "scaler_q.fit(train_data_t.values)\n",
    "data_t = scaler_q.transform(df_data_t.values)\n",
    "\n",
    "Q_max = scaler_q.max_num\n",
    "Q_min = scaler_q.min_num\n",
    "print(f\"Q_max : {Q_max}\")\n",
    "print(f\"Q_min : {Q_min}\")"
   ]
  },
  {
   "cell_type": "code",
   "execution_count": 27,
   "metadata": {},
   "outputs": [],
   "source": [
    "def Metric(pred, true_y) #, mean, std):\n",
    "\n",
    "        #prepare\n",
    "        result = pred[:]\n",
    "        label = true_y[:]\n",
    "        print(f\"result.shape, label.shape: {result.shape}, {label.shape}\")\n",
    "        print(f\"result[0]: {result[0]}\")\n",
    "\n",
    "        # result_scale = (result*std) + mean\n",
    "        # label_scale = (label*std) + mean\n",
    "\n",
    "        #MAE\n",
    "        # MAE = mean_absolute_error(label, result)\n",
    "        sumout = 0\n",
    "        for id in range(result.shape[0]):\n",
    "          out = mean_absolute_error(label[id],result[id])\n",
    "          sumout += out\n",
    "        MAE = sumout/(result.shape[0])\n",
    "        print(f\"MAE : {MAE}\")\n",
    "\n",
    "        #MSE\n",
    "        sumout = 0\n",
    "        for id in range(result.shape[0]):\n",
    "          out = mean_squared_error(label[id],result[id])\n",
    "          sumout += out\n",
    "        MSE =  sumout/(result.shape[0])\n",
    "        print(f\"MSE : {MSE}\")\n",
    "\n",
    "        # RMSE (Root Mean Squared Error)\n",
    "        sumout = 0\n",
    "        for id in range(result.shape[0]):\n",
    "          out = mean_squared_error(label[id],result[id])\n",
    "          sumout += np.sqrt(out)\n",
    "        RMSE =  sumout/(result.shape[0])\n",
    "        print(f\"RMSE : {RMSE}\")\n",
    "\n",
    "        #MAPE (Mean Absolute Percentage Error)\n",
    "        sumout = 0\n",
    "        for id in range(result.shape[0]):\n",
    "          out = np.mean(np.abs((label[id] - result[id]) / label[id])) * 100 \n",
    "          sumout += out\n",
    "        N_MAPE = sumout/(result.shape[0])\n",
    "        print(f\"norm_MAPE : {N_MAPE}\")\n",
    "\n",
    "        # #MAPE_scale (Mean Absolute Percentage Error)\n",
    "        # sumout = 0\n",
    "        # for id in range(result_scale.shape[0]):\n",
    "        #   out = np.mean(np.abs((label_scale[id] - result_scale[id]) / label_scale[id])) * 100 \n",
    "        #   sumout += out\n",
    "        # MAPE = sumout/(result_scale.shape[0])\n",
    "        # print(f\"denorm_MAPE : {MAPE}\")\n",
    "        return MAE, MSE, RMSE, N_MAPE #, MAPE"
   ]
  },
  {
   "cell_type": "code",
   "execution_count": 28,
   "metadata": {},
   "outputs": [
    {
     "name": "stdout",
     "output_type": "stream",
     "text": [
      "pred.shape: (28, 1, 1)\n",
      "true.shape: (28, 1, 1)\n",
      "result.shape, label.shape: (28, 1, 1), (28, 1, 1)\n",
      "result[0]: [[-0.3949244]]\n",
      "MAE : 0.5552071183919907\n",
      "MSE : 0.42724806055360076\n",
      "RMSE : 0.5552071183919907\n",
      "norm_MAPE : 145.88428501571929\n",
      "denorm_MAPE : 168.35953038043837\n"
     ]
    }
   ],
   "source": [
    "pred = np.load(\"C:/Users/PC/Downloads/BIVA_pred.npy\")\n",
    "true = np.load(\"C:/Users/PC/Downloads/BIVA_trues.npy\")\n",
    "print(f\"pred.shape: {pred.shape}\")\n",
    "print(f\"true.shape: {true.shape}\")\n",
    "\n",
    "MAE, MSE, RMSE, norm_MAPE, MAPE = Metric(pred, true, Q_mean, Q_std)\n"
   ]
  },
  {
   "cell_type": "code",
   "execution_count": 55,
   "metadata": {},
   "outputs": [
    {
     "data": {
      "text/plain": [
       "1.6835952486310686"
      ]
     },
     "execution_count": 55,
     "metadata": {},
     "output_type": "execute_result"
    }
   ],
   "source": [
    "result_scale = (pred*Q_std) + Q_mean\n",
    "label_scale = (true*Q_std) + Q_mean\n",
    "label_scale = label_scale.reshape([28]).astype(np.float32)\n",
    "result_scale = result_scale.reshape([28]).astype(np.float32)\n",
    "#result_scale\n",
    "np.sum(np.abs((label_scale - result_scale)/label_scale))/28\n",
    "\n"
   ]
  },
  {
   "cell_type": "code",
   "execution_count": 1,
   "metadata": {},
   "outputs": [
    {
     "ename": "NameError",
     "evalue": "name 'np' is not defined",
     "output_type": "error",
     "traceback": [
      "\u001b[1;31m---------------------------------------------------------------------------\u001b[0m",
      "\u001b[1;31mNameError\u001b[0m                                 Traceback (most recent call last)",
      "\u001b[1;32m<ipython-input-1-924d44da3629>\u001b[0m in \u001b[0;36m<module>\u001b[1;34m\u001b[0m\n\u001b[0;32m      7\u001b[0m \u001b[0mfile_true\u001b[0m \u001b[1;33m=\u001b[0m \u001b[1;34m'BIVA_trues.npy'\u001b[0m\u001b[1;33m\u001b[0m\u001b[1;33m\u001b[0m\u001b[0m\n\u001b[0;32m      8\u001b[0m \u001b[1;33m\u001b[0m\u001b[0m\n\u001b[1;32m----> 9\u001b[1;33m \u001b[0minputs\u001b[0m \u001b[1;33m=\u001b[0m \u001b[0mnp\u001b[0m\u001b[1;33m.\u001b[0m\u001b[0mload\u001b[0m\u001b[1;33m(\u001b[0m\u001b[0mos\u001b[0m\u001b[1;33m.\u001b[0m\u001b[0mpath\u001b[0m\u001b[1;33m.\u001b[0m\u001b[0mjoin\u001b[0m\u001b[1;33m(\u001b[0m\u001b[0mresult_root\u001b[0m\u001b[1;33m,\u001b[0m\u001b[0mfile_inputs\u001b[0m\u001b[1;33m)\u001b[0m\u001b[1;33m)\u001b[0m\u001b[1;33m\u001b[0m\u001b[1;33m\u001b[0m\u001b[0m\n\u001b[0m\u001b[0;32m     10\u001b[0m \u001b[0mimputed\u001b[0m \u001b[1;33m=\u001b[0m \u001b[0mnp\u001b[0m\u001b[1;33m.\u001b[0m\u001b[0mload\u001b[0m\u001b[1;33m(\u001b[0m\u001b[0mos\u001b[0m\u001b[1;33m.\u001b[0m\u001b[0mpath\u001b[0m\u001b[1;33m.\u001b[0m\u001b[0mjoin\u001b[0m\u001b[1;33m(\u001b[0m\u001b[0mresult_root\u001b[0m\u001b[1;33m,\u001b[0m\u001b[0mfile_imputed\u001b[0m\u001b[1;33m)\u001b[0m\u001b[1;33m)\u001b[0m\u001b[1;33m\u001b[0m\u001b[1;33m\u001b[0m\u001b[0m\n\u001b[0;32m     11\u001b[0m \u001b[0mrecons\u001b[0m \u001b[1;33m=\u001b[0m \u001b[0mnp\u001b[0m\u001b[1;33m.\u001b[0m\u001b[0mload\u001b[0m\u001b[1;33m(\u001b[0m\u001b[0mos\u001b[0m\u001b[1;33m.\u001b[0m\u001b[0mpath\u001b[0m\u001b[1;33m.\u001b[0m\u001b[0mjoin\u001b[0m\u001b[1;33m(\u001b[0m\u001b[0mresult_root\u001b[0m\u001b[1;33m,\u001b[0m\u001b[0mfile_recons\u001b[0m\u001b[1;33m)\u001b[0m\u001b[1;33m)\u001b[0m\u001b[1;33m\u001b[0m\u001b[1;33m\u001b[0m\u001b[0m\n",
      "\u001b[1;31mNameError\u001b[0m: name 'np' is not defined"
     ]
    }
   ],
   "source": [
    "# result file load\n",
    "result_root = 'D:/2023/SVU_SCT_FIN/SVU_SCT_FIN_SP/SVU_SCT_FIN/Model/BIVA/exp/BAK_01/(BIVA)_result/BIVA-no1-dt20230802-seq6-pred1-bt1-lr0.15-mv6-v3x3/'\n",
    "file_inputs = 'BIVA_inputs.npy'\n",
    "file_imputed = 'BIVA_imputation.npy'\n",
    "file_recons = 'BIVA_recons.npy'\n",
    "file_pred = 'BIVA_pred.npy'\n",
    "file_true = 'BIVA_trues.npy'\n",
    "\n",
    "inputs = np.load(os.path.join(result_root,file_inputs))\n",
    "imputed = np.load(os.path.join(result_root,file_imputed))\n",
    "recons = np.load(os.path.join(result_root,file_recons))\n",
    "pred = np.load(os.path.join(result_root,file_pred))\n",
    "true = np.load(os.path.join(result_root,file_true))"
   ]
  },
  {
   "cell_type": "code",
   "execution_count": null,
   "metadata": {},
   "outputs": [],
   "source": [
    "I = imputed[0][:,0]\n",
    "I = pd.DataFrame(I)\n",
    "R = recons[0][:,0]\n",
    "R = pd.DataFrame(R)\n",
    "\n",
    "df_r = pd.concat([I,R],axis=1)\n",
    "I.plot()"
   ]
  },
  {
   "cell_type": "code",
   "execution_count": null,
   "metadata": {},
   "outputs": [],
   "source": [
    "GT = true.squeeze()\n",
    "GT = pd.DataFrame(GT)\n",
    "PRED = pred.squeeze()\n",
    "PRED = pd.DataFrame(PRED)\n",
    "df = pd.concat([GT,PRED],axis=1)\n",
    "df.plot()"
   ]
  },
  {
   "cell_type": "code",
   "execution_count": null,
   "metadata": {},
   "outputs": [],
   "source": [
    "df = pd.DataFrame(inputs[1])\n",
    "plt.figure(figsize=(15,5))\n",
    "sns.heatmap(df.T.isna().transpose(),\n",
    "            cmap=\"YlGnBu\",\n",
    "            cbar=False,\n",
    "            # cbar_kws={'label': 'Missing Data'}\n",
    "            )\n",
    "plt.show()"
   ]
  }
 ],
 "metadata": {
  "kernelspec": {
   "display_name": "Python 3",
   "language": "python",
   "name": "python3"
  },
  "language_info": {
   "codemirror_mode": {
    "name": "ipython",
    "version": 3
   },
   "file_extension": ".py",
   "mimetype": "text/x-python",
   "name": "python",
   "nbconvert_exporter": "python",
   "pygments_lexer": "ipython3",
   "version": "3.8.5"
  },
  "orig_nbformat": 4
 },
 "nbformat": 4,
 "nbformat_minor": 2
}
