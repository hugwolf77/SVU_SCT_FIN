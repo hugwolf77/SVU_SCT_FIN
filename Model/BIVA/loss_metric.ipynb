{
 "cells": [
  {
   "cell_type": "code",
   "execution_count": 1,
   "metadata": {},
   "outputs": [
    {
     "name": "stderr",
     "output_type": "stream",
     "text": [
      "c:\\Users\\PC\\AppData\\Local\\Programs\\Python\\Python38\\lib\\site-packages\\statsmodels\\compat\\pandas.py:65: FutureWarning: pandas.Int64Index is deprecated and will be removed from pandas in a future version. Use pandas.Index with the appropriate dtype instead.\n",
      "  from pandas import Int64Index as NumericIndex\n"
     ]
    }
   ],
   "source": [
    "import os\n",
    "\n",
    "import numpy as np\n",
    "import pandas as pd\n",
    "import matplotlib.pyplot as plt\n",
    "\n",
    "from scipy.stats import pearsonr\n",
    "from sklearn.metrics import *\n",
    "from sklearn.metrics import mean_absolute_error\n",
    "\n",
    "from model.utils.tools import StandardScaler, load_data_timeindex, load_data_DFM, set_lag_missing, repeat_label_row\n"
   ]
  },
  {
   "cell_type": "code",
   "execution_count": 3,
   "metadata": {},
   "outputs": [],
   "source": [
    "target = 'A1' # GDP grow ratio\n",
    "seq_len = 6\n",
    "flag = \"train\"\n",
    "\n",
    "root = \"D:/2023/SVU_SCT_FIN/SVU_SCT_FIN_SP/SVU_SCT_FIN/Model/BIVA/Base_data/\"\n",
    "file = \"dataset_03_S.xlsx\"\n",
    "path = os.path.join(root,file)\n",
    "df_Q, df_Q_trans, df_M, df_M_trans, var_info = load_data_timeindex(path)\n",
    "\n",
    "period = {'M': ['2000-01','2023-01'], 'Q':['2000-03','2023-03']}\n",
    "df_M = df_M.loc[period['M'][0]:period['M'][1]]\n",
    "df_Q = df_Q.loc[period['Q'][0]:period['Q'][1]]\n",
    "\n",
    "cols_M = list(df_M.columns)\n",
    "cols_Q = list(df_Q.columns)\n",
    "cols_Q.remove(target)\n",
    "df_Q = df_Q[cols_Q + [target]]\n",
    "\n",
    "\n",
    "type_map = {'train': 0, 'val': 1, 'test': 2}\n",
    "set_type = type_map[flag]\n",
    "\n",
    "num_train = int(len(df_M) * 0.8) \n",
    "num_test = int(len(df_M) * 0.1)\n",
    "num_vali = len(df_M) - num_train - num_test\n",
    "border1s = [0, num_train - seq_len, len(df_M) - num_test - seq_len]\n",
    "border2s = [num_train, num_train + num_vali, len(df_M)]\n",
    "border1 = border1s[set_type]\n",
    "border2 = border2s[set_type]\n",
    "\n",
    "border1s_Q = [0, (num_train - seq_len)//3, (len(df_M) - num_test - seq_len)//3]\n",
    "border2s_Q = [num_train//3, (num_train + num_vali)//3, len(df_M)//3]\n",
    "border1_Q = border1s_Q[set_type]\n",
    "border2_Q = border2s_Q[set_type]\n",
    "\n",
    "df_data = df_M[cols_M]\n",
    "df_data_t = df_Q[[target]]\n",
    "\n",
    "scaler_m = StandardScaler()\n",
    "scaler_q = StandardScaler()\n",
    "\n",
    "train_data = df_data[border1s[0]:border2s[0]]\n",
    "df_data_cols = df_data.columns\n",
    "df_data_index = df_data.index\n",
    "\n",
    "train_data_t = df_data_t[border1s_Q[0]:border2s_Q[0]]\n",
    "df_data_t_cols = df_data_t.columns\n",
    "df_data_t_index = df_data_t.index\n",
    "\n",
    "scaler_m.fit(train_data.values)\n",
    "data = scaler_m.transform(df_data.values)\n",
    "scaler_q.fit(train_data_t.values)\n",
    "data_t = scaler_q.transform(df_data_t.values)\n",
    "\n",
    "Q_mean = scaler_q.mean\n",
    "Q_std = scaler_q.std \n",
    "print(f\"Q_mean : {Q_mean}\")\n",
    "print(f\"Q_std : {Q_std}\")"
   ]
  },
  {
   "cell_type": "code",
   "execution_count": 27,
   "metadata": {},
   "outputs": [],
   "source": [
    "def Metric(pred, true_y, mean, std):\n",
    "\n",
    "        #prepare\n",
    "        result = pred[:]\n",
    "        label = true_y[:]\n",
    "        print(f\"result.shape, label.shape: {result.shape}, {label.shape}\")\n",
    "        print(f\"result[0]: {result[0]}\")\n",
    "\n",
    "        result_scale = (result*std) + mean\n",
    "        label_scale = (label*std) + mean\n",
    "\n",
    "        #MAE\n",
    "        # MAE = mean_absolute_error(label, result)\n",
    "        sumout = 0\n",
    "        for id in range(result.shape[0]):\n",
    "          out = mean_absolute_error(label[id],result[id])\n",
    "          sumout += out\n",
    "        MAE = sumout/(result.shape[0])\n",
    "        print(f\"MAE : {MAE}\")\n",
    "\n",
    "        #MSE\n",
    "        sumout = 0\n",
    "        for id in range(result.shape[0]):\n",
    "          out = mean_squared_error(label[id],result[id])\n",
    "          sumout += out\n",
    "        MSE =  sumout/(result.shape[0])\n",
    "        print(f\"MSE : {MSE}\")\n",
    "\n",
    "        # RMSE (Root Mean Squared Error)\n",
    "        sumout = 0\n",
    "        for id in range(result.shape[0]):\n",
    "          out = mean_squared_error(label[id],result[id])\n",
    "          sumout += np.sqrt(out)\n",
    "        RMSE =  sumout/(result.shape[0])\n",
    "        print(f\"RMSE : {RMSE}\")\n",
    "\n",
    "        #MAPE (Mean Absolute Percentage Error)\n",
    "        sumout = 0\n",
    "        for id in range(result.shape[0]):\n",
    "          out = np.mean(np.abs((label[id] - result[id]) / label[id])) * 100 \n",
    "          sumout += out\n",
    "        N_MAPE = sumout/(result.shape[0])\n",
    "        print(f\"norm_MAPE : {N_MAPE}\")\n",
    "\n",
    "        #MAPE_scale (Mean Absolute Percentage Error)\n",
    "        sumout = 0\n",
    "        for id in range(result_scale.shape[0]):\n",
    "          out = np.mean(np.abs((label_scale[id] - result_scale[id]) / label_scale[id])) * 100 \n",
    "          sumout += out\n",
    "        MAPE = sumout/(result_scale.shape[0])\n",
    "        print(f\"denorm_MAPE : {MAPE}\")\n",
    "        return MAE, MSE, RMSE, N_MAPE, MAPE"
   ]
  },
  {
   "cell_type": "code",
   "execution_count": 28,
   "metadata": {},
   "outputs": [
    {
     "name": "stdout",
     "output_type": "stream",
     "text": [
      "pred.shape: (28, 1, 1)\n",
      "true.shape: (28, 1, 1)\n",
      "result.shape, label.shape: (28, 1, 1), (28, 1, 1)\n",
      "result[0]: [[-0.3949244]]\n",
      "MAE : 0.5552071183919907\n",
      "MSE : 0.42724806055360076\n",
      "RMSE : 0.5552071183919907\n",
      "norm_MAPE : 145.88428501571929\n",
      "denorm_MAPE : 168.35953038043837\n"
     ]
    }
   ],
   "source": [
    "pred = np.load(\"C:/Users/PC/Downloads/BIVA_pred.npy\")\n",
    "true = np.load(\"C:/Users/PC/Downloads/BIVA_trues.npy\")\n",
    "print(f\"pred.shape: {pred.shape}\")\n",
    "print(f\"true.shape: {true.shape}\")\n",
    "\n",
    "MAE, MSE, RMSE, norm_MAPE, MAPE = Metric(pred, true, Q_mean, Q_std)\n"
   ]
  },
  {
   "cell_type": "code",
   "execution_count": 55,
   "metadata": {},
   "outputs": [
    {
     "data": {
      "text/plain": [
       "1.6835952486310686"
      ]
     },
     "execution_count": 55,
     "metadata": {},
     "output_type": "execute_result"
    }
   ],
   "source": [
    "result_scale = (pred*Q_std) + Q_mean\n",
    "label_scale = (true*Q_std) + Q_mean\n",
    "label_scale = label_scale.reshape([28]).astype(np.float32)\n",
    "result_scale = result_scale.reshape([28]).astype(np.float32)\n",
    "#result_scale\n",
    "np.sum(np.abs((label_scale - result_scale)/label_scale))/28\n",
    "\n"
   ]
  },
  {
   "cell_type": "code",
   "execution_count": 3,
   "metadata": {},
   "outputs": [],
   "source": [
    "input = np.load(\"D:/2023/SVU_SCT_FIN/SVU_SCT_FIN_SP/SVU_SCT_FIN/Model/BIVA/exp/(BIVA)_result/BIVA-no1-dt20230802-seq6-pred1-bt1-lr0.15-mv6-v3x3/BIVA_inputs.npy\")\n",
    "imputation = np.load(\"D:/2023/SVU_SCT_FIN/SVU_SCT_FIN_SP/SVU_SCT_FIN/Model/BIVA/exp/(BIVA)_result/BIVA-no1-dt20230802-seq6-pred1-bt1-lr0.15-mv6-v3x3/BIVA_imputation.npy\")\n",
    "reconstruct = np.load(\"D:/2023/SVU_SCT_FIN/SVU_SCT_FIN_SP/SVU_SCT_FIN/Model/BIVA/exp/(BIVA)_result/BIVA-no1-dt20230802-seq6-pred1-bt1-lr0.15-mv6-v3x3/BIVA_recons.npy\")\n",
    "prediction = np.load(\"D:/2023/SVU_SCT_FIN/SVU_SCT_FIN_SP/SVU_SCT_FIN/Model/BIVA/exp/(BIVA)_result/BIVA-no1-dt20230802-seq6-pred1-bt1-lr0.15-mv6-v3x3/BIVA_pred.npy\")\n",
    "groundtrues = np.load(\"D:/2023/SVU_SCT_FIN/SVU_SCT_FIN_SP/SVU_SCT_FIN/Model/BIVA/exp/(BIVA)_result/BIVA-no1-dt20230802-seq6-pred1-bt1-lr0.15-mv6-v3x3/BIVA_trues.npy\")"
   ]
  },
  {
   "cell_type": "code",
   "execution_count": 14,
   "metadata": {},
   "outputs": [
    {
     "data": {
      "text/plain": [
       "<AxesSubplot:>"
      ]
     },
     "execution_count": 14,
     "metadata": {},
     "output_type": "execute_result"
    }
   ],
   "source": [
    "df = pd.DataFrame(imputation[0])\n",
    "df.plot()"
   ]
  },
  {
   "cell_type": "code",
   "execution_count": 8,
   "metadata": {},
   "outputs": [
    {
     "data": {
      "text/plain": [
       "[<matplotlib.lines.Line2D at 0x2bfefe7c910>]"
      ]
     },
     "execution_count": 8,
     "metadata": {},
     "output_type": "execute_result"
    },
    {
     "data": {
      "image/png": "[encoded data removed]",
      "text/plain": [
       "<Figure size 432x288 with 1 Axes>"
      ]
     },
     "metadata": {
      "needs_background": "light"
     },
     "output_type": "display_data"
    }
   ],
   "source": [
    "plt.plot(test_loss)"
   ]
  },
  {
   "cell_type": "code",
   "execution_count": 12,
   "metadata": {},
   "outputs": [
    {
     "name": "stdout",
     "output_type": "stream",
     "text": [
      "epoch : 0  ==> lr : 0.15\n",
      "epoch : 1  ==> lr : 0.14325\n",
      "epoch : 2  ==> lr : 0.13680375\n",
      "epoch : 3  ==> lr : 0.13064758124999998\n",
      "epoch : 4  ==> lr : 0.12476844009374997\n",
      "epoch : 5  ==> lr : 0.11915386028953123\n",
      "epoch : 6  ==> lr : 0.11379193657650231\n",
      "epoch : 7  ==> lr : 0.10867129943055971\n",
      "epoch : 8  ==> lr : 0.10378109095618451\n",
      "epoch : 9  ==> lr : 0.09911094186315621\n"
     ]
    }
   ],
   "source": [
    "for epoch in range(0,10):\n",
    "    lr = 0.15 * (0.955 ** (epoch // 1))\n",
    "    print(f\"epoch : {epoch}  ==> lr : {lr}\")"
   ]
  }
 ],
 "metadata": {
  "kernelspec": {
   "display_name": "Python 3",
   "language": "python",
   "name": "python3"
  },
  "language_info": {
   "codemirror_mode": {
    "name": "ipython",
    "version": 3
   },
   "file_extension": ".py",
   "mimetype": "text/x-python",
   "name": "python",
   "nbconvert_exporter": "python",
   "pygments_lexer": "ipython3",
   "version": "3.8.5"
  },
  "orig_nbformat": 4
 },
 "nbformat": 4,
 "nbformat_minor": 2
}
